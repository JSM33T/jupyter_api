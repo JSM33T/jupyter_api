{
 "cells": [
  {
   "cell_type": "code",
   "execution_count": 75,
   "id": "0abb51c2",
   "metadata": {},
   "outputs": [
    {
     "name": "stdout",
     "output_type": "stream",
     "text": [
      "713303\n"
     ]
    }
   ],
   "source": [
    "import urllib, json\n",
    "str = input()\n",
    "api_link = \"https://api.postalpincode.in/pincode/\" + str"
   ]
  },
  {
   "cell_type": "code",
   "execution_count": 79,
   "id": "9bdb20aa",
   "metadata": {},
   "outputs": [
    {
     "name": "stdout",
     "output_type": "stream",
     "text": [
      "[{'Message': 'Number of pincode(s) found:5', 'Status': 'Success', 'PostOffice': [{'Name': 'B.B.College', 'Description': None, 'BranchType': 'Sub Post Office', 'DeliveryStatus': 'Non-Delivery', 'Circle': 'West Bengal', 'District': 'Bardhaman', 'Division': 'Asansol', 'Region': 'South Bengal', 'Block': 'Barabani', 'State': 'West Bengal', 'Country': 'India', 'Pincode': '713303'}, {'Name': 'Mohishila Colony', 'Description': None, 'BranchType': 'Sub Post Office', 'DeliveryStatus': 'Non-Delivery', 'Circle': 'West Bengal', 'District': 'Bardhaman', 'Division': 'Asansol', 'Region': 'South Bengal', 'Block': 'Barabani', 'State': 'West Bengal', 'Country': 'India', 'Pincode': '713303'}, {'Name': 'Rambandhutalaw', 'Description': None, 'BranchType': 'Sub Post Office', 'DeliveryStatus': 'Non-Delivery', 'Circle': 'West Bengal', 'District': 'Bardhaman', 'Division': 'Asansol', 'Region': 'South Bengal', 'Block': 'Barabani', 'State': 'West Bengal', 'Country': 'India', 'Pincode': '713303'}, {'Name': 'S.D.Hospital', 'Description': None, 'BranchType': 'Sub Post Office', 'DeliveryStatus': 'Non-Delivery', 'Circle': 'West Bengal', 'District': 'Bardhaman', 'Division': 'Asansol', 'Region': 'South Bengal', 'Block': 'Barabani', 'State': 'West Bengal', 'Country': 'India', 'Pincode': '713303'}, {'Name': 'Ushagram', 'Description': None, 'BranchType': 'Sub Post Office', 'DeliveryStatus': 'Delivery', 'Circle': 'West Bengal', 'District': 'Bardhaman', 'Division': 'Asansol', 'Region': 'South Bengal', 'Block': 'Barabani', 'State': 'West Bengal', 'Country': 'India', 'Pincode': '713303'}]}]\n"
     ]
    }
   ],
   "source": [
    "url = (api_link)\n",
    "response = urllib.request.urlopen(url)\n",
    "data = json.loads(response.read())\n",
    "print(data) #json output"
   ]
  },
  {
   "cell_type": "code",
   "execution_count": 80,
   "id": "1c1ad1f5",
   "metadata": {},
   "outputs": [
    {
     "name": "stdout",
     "output_type": "stream",
     "text": [
      "5 areas found\n"
     ]
    }
   ],
   "source": [
    "\n",
    "ln = len(data[0][\"PostOffice\"])\n",
    "print(ln,\"areas found\")\n"
   ]
  },
  {
   "cell_type": "code",
   "execution_count": 81,
   "id": "71ac00fc",
   "metadata": {},
   "outputs": [
    {
     "name": "stdout",
     "output_type": "stream",
     "text": [
      "1 B.B.College | Bardhaman\n",
      "2 Mohishila Colony | Bardhaman\n",
      "3 Rambandhutalaw | Bardhaman\n",
      "4 S.D.Hospital | Bardhaman\n",
      "5 Ushagram | Bardhaman\n"
     ]
    }
   ],
   "source": [
    "ln = len(data[0][\"PostOffice\"])\n",
    "count = 0\n",
    "while (count < ln):   \n",
    "    print(count+1, data[0][\"PostOffice\"][count][\"Name\"],\"|\",data[0][\"PostOffice\"][count][\"District\"])\n",
    "    count = count + 1\n"
   ]
  },
  {
   "cell_type": "code",
   "execution_count": null,
   "id": "93d56a3d",
   "metadata": {},
   "outputs": [],
   "source": []
  }
 ],
 "metadata": {
  "kernelspec": {
   "display_name": "Python 3 (ipykernel)",
   "language": "python",
   "name": "python3"
  },
  "language_info": {
   "codemirror_mode": {
    "name": "ipython",
    "version": 3
   },
   "file_extension": ".py",
   "mimetype": "text/x-python",
   "name": "python",
   "nbconvert_exporter": "python",
   "pygments_lexer": "ipython3",
   "version": "3.9.7"
  }
 },
 "nbformat": 4,
 "nbformat_minor": 5
}
