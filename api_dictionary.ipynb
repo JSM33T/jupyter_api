{
 "cells": [
  {
   "cell_type": "code",
   "execution_count": 10,
   "id": "1bb0b952",
   "metadata": {},
   "outputs": [
    {
     "name": "stdout",
     "output_type": "stream",
     "text": [
      "mummy\n",
      "word: mummy\n",
      "1 defn(s) found\n"
     ]
    }
   ],
   "source": [
    "import urllib, json\n",
    "str = input()\n",
    "api_link = \"https://api.dictionaryapi.dev/api/v2/entries/en/\" + str\n",
    "url = (api_link)\n",
    "response = urllib.request.urlopen(url)\n",
    "data = json.loads(response.read())\n",
    "print(\"word:\", data[0][\"word\"])\n",
    "ln = len(data[0][\"meanings\"][0][\"definitions\"])\n",
    "print(ln,\"defn(s) found\")"
   ]
  },
  {
   "cell_type": "code",
   "execution_count": 11,
   "id": "3ef9a5a0",
   "metadata": {},
   "outputs": [
    {
     "name": "stdout",
     "output_type": "stream",
     "text": [
      "defn 1 : (especially in ancient Egypt) a body of a human being or animal that has been ceremonially preserved by removal of the internal organs, treatment with natron and resin, and wrapping in bandages.\n"
     ]
    }
   ],
   "source": [
    "count = 0\n",
    "while (count < ln):   \n",
    "    print(\"defn\",count+1,\":\", data[0][\"meanings\"][0][\"definitions\"][count][\"definition\"])\n",
    "    count = count + 1"
   ]
  },
  {
   "cell_type": "code",
   "execution_count": null,
   "id": "0ff90670",
   "metadata": {},
   "outputs": [],
   "source": []
  },
  {
   "cell_type": "code",
   "execution_count": null,
   "id": "db6052f3",
   "metadata": {},
   "outputs": [],
   "source": []
  },
  {
   "cell_type": "code",
   "execution_count": null,
   "id": "368abed2",
   "metadata": {},
   "outputs": [],
   "source": []
  }
 ],
 "metadata": {
  "kernelspec": {
   "display_name": "Python 3 (ipykernel)",
   "language": "python",
   "name": "python3"
  },
  "language_info": {
   "codemirror_mode": {
    "name": "ipython",
    "version": 3
   },
   "file_extension": ".py",
   "mimetype": "text/x-python",
   "name": "python",
   "nbconvert_exporter": "python",
   "pygments_lexer": "ipython3",
   "version": "3.9.7"
  }
 },
 "nbformat": 4,
 "nbformat_minor": 5
}
