{
 "cells": [
  {
   "cell_type": "code",
   "execution_count": 12,
   "id": "4e9618ec",
   "metadata": {},
   "outputs": [
    {
     "name": "stdout",
     "output_type": "stream",
     "text": [
      "dictionary\n",
      "word: dictionary\n",
      "1 defn(s) found\n"
     ]
    }
   ],
   "source": [
    "import urllib, json\n",
    "str = input()\n",
    "api_link = \"https://api.dictionaryapi.dev/api/v2/entries/en/\" + str\n",
    "url = (api_link)\n",
    "response = urllib.request.urlopen(url)\n",
    "data = json.loads(response.read())\n",
    "print(\"word:\", data[0][\"word\"])\n",
    "ln = len(data[0][\"meanings\"][0][\"definitions\"])\n",
    "print(ln,\"defn(s) found\")"
   ]
  },
  {
   "cell_type": "code",
   "execution_count": 13,
   "id": "da1f4471",
   "metadata": {},
   "outputs": [
    {
     "name": "stdout",
     "output_type": "stream",
     "text": [
      "defn 1 : a book or electronic resource that lists the words of a language (typically in alphabetical order) and gives their meaning, or gives the equivalent words in a different language, often also providing information about pronunciation, origin, and usage.\n"
     ]
    }
   ],
   "source": [
    "count = 0\n",
    "while (count < ln):   \n",
    "    print(\"defn\",count+1,\":\", data[0][\"meanings\"][0][\"definitions\"][count][\"definition\"])\n",
    "    count = count + 1"
   ]
  }
 ],
 "metadata": {
  "kernelspec": {
   "display_name": "Python 3 (ipykernel)",
   "language": "python",
   "name": "python3"
  },
  "language_info": {
   "codemirror_mode": {
    "name": "ipython",
    "version": 3
   },
   "file_extension": ".py",
   "mimetype": "text/x-python",
   "name": "python",
   "nbconvert_exporter": "python",
   "pygments_lexer": "ipython3",
   "version": "3.9.7"
  }
 },
 "nbformat": 4,
 "nbformat_minor": 5
}
